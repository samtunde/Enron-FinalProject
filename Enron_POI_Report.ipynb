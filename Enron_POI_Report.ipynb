{
 "cells": [
  {
   "cell_type": "markdown",
   "metadata": {},
   "source": [
    "# Background of Enron Fraud\n",
    "The Enron scandal, publicized in October 2001, eventually led to the bankruptcy of the Enron Corporation, an American energy company based in Houston, Texas, and the de facto dissolution of Arthur Andersen, which was one of the five largest audit and accountancy partnerships in the world. In addition to being the largest bankruptcy reorganization in American history at that time, Enron was cited as the biggest audit failure.[1]\n",
    "\n",
    "Enron was formed in 1985 by Kenneth Lay after merging Houston Natural Gas and InterNorth. Several years later, when Jeffrey Skilling was hired, he developed a staff of executives that – by the use of accounting loopholes, special purpose entities, and poor financial reporting – were able to hide billions of dollars in debt from failed deals and projects. Chief Financial Officer Andrew Fastow and other executives not only misled Enron's Board of Directors and Audit Committee on high-risk accounting practices, but also pressured Arthur Andersen to ignore the issues."
   ]
  },
  {
   "cell_type": "code",
   "execution_count": 1,
   "metadata": {},
   "outputs": [
    {
     "name": "stderr",
     "output_type": "stream",
     "text": [
      "/Users/samtunde/anaconda/lib/python2.7/site-packages/sklearn/cross_validation.py:41: DeprecationWarning: This module was deprecated in version 0.18 in favor of the model_selection module into which all the refactored classes and functions are moved. Also note that the interface of the new CV iterators are different from that of this module. This module will be removed in 0.20.\n",
      "  \"This module will be removed in 0.20.\", DeprecationWarning)\n"
     ]
    }
   ],
   "source": [
    "# %load poi_id.py\n",
    "#!/usr/bin/python\n",
    "\n",
    "import sys\n",
    "import numpy as np\n",
    "import pandas as pd\n",
    "from sklearn.preprocessing import Imputer\n",
    "from sklearn.tree import DecisionTreeClassifier\n",
    "from sklearn.ensemble import RandomForestClassifier\n",
    "from sklearn.naive_bayes import GaussianNB\n",
    "from sklearn.preprocessing import StandardScaler\n",
    "from sklearn.decomposition import PCA\n",
    "from sklearn.feature_selection import SelectPercentile\n",
    "import pickle\n",
    "sys.path.append(\"../tools/\")\n",
    "from feature_format import featureFormat\n",
    "from feature_format import targetFeatureSplit\n",
    "import tester\n",
    "from tester import dump_classifier_and_data\n"
   ]
  },
  {
   "cell_type": "code",
   "execution_count": 2,
   "metadata": {
    "collapsed": true
   },
   "outputs": [],
   "source": [
    "from sklearn.metrics import accuracy_score\n",
    "#from sklearn.grid_search import GridSearchCV\n",
    "from sklearn.metrics import precision_score\n",
    "from sklearn.metrics import recall_score"
   ]
  },
  {
   "cell_type": "markdown",
   "metadata": {},
   "source": [
    "# Understanding the Dataset and Question\n",
    "    The goal in this section is to go through the learning, cleaning and preparing of the data. Next, selecting features which influence mostly on the target, creating new features which explain target the better. This section also involves outlier investigations and data validation."
   ]
  },
  {
   "cell_type": "code",
   "execution_count": 3,
   "metadata": {},
   "outputs": [
    {
     "name": "stdout",
     "output_type": "stream",
     "text": [
      "<class 'pandas.core.frame.DataFrame'>\n",
      "Index: 146 entries, ALLEN PHILLIP K to YEAP SOON\n",
      "Data columns (total 19 columns):\n",
      "poi                          146 non-null bool\n",
      "salary                       95 non-null float64\n",
      "bonus                        82 non-null float64\n",
      "long_term_incentive          66 non-null float64\n",
      "deferred_income              49 non-null float64\n",
      "deferral_payments            39 non-null float64\n",
      "loan_advances                4 non-null float64\n",
      "other                        93 non-null float64\n",
      "expenses                     95 non-null float64\n",
      "director_fees                17 non-null float64\n",
      "total_payments               125 non-null float64\n",
      "exercised_stock_options      102 non-null float64\n",
      "restricted_stock             110 non-null float64\n",
      "restricted_stock_deferred    18 non-null float64\n",
      "total_stock_value            126 non-null float64\n",
      "to_messages                  86 non-null float64\n",
      "from_messages                86 non-null float64\n",
      "from_this_person_to_poi      86 non-null float64\n",
      "from_poi_to_this_person      86 non-null float64\n",
      "dtypes: bool(1), float64(18)\n",
      "memory usage: 21.8+ KB\n"
     ]
    }
   ],
   "source": [
    "features_list = ['poi',\n",
    "                'salary',\n",
    "                'bonus', \n",
    "                'long_term_incentive', \n",
    "                'deferred_income', \n",
    "                'deferral_payments',\n",
    "                'loan_advances', \n",
    "                'other',\n",
    "                'expenses', \n",
    "                'director_fees',\n",
    "                'total_payments',\n",
    "                'exercised_stock_options',\n",
    "                'restricted_stock',\n",
    "                'restricted_stock_deferred',\n",
    "                'total_stock_value',\n",
    "                'to_messages',\n",
    "                'from_messages',\n",
    "                'from_this_person_to_poi',\n",
    "                'from_poi_to_this_person']\n",
    "\n",
    "### Load the dictionary containing the dataset\n",
    "with open(\"final_project_dataset.pkl\", \"r\") as data_file:\n",
    "    data_dict = pickle.load(data_file)\n",
    "\n",
    "# Transform data from dictionary to the Pandas DataFrame\n",
    "df = pd.DataFrame.from_dict(data_dict, orient = 'index')\n",
    "#Order columns in DataFrame, exclude email column\n",
    "df = df[features_list]\n",
    "df = df.replace('NaN', np.nan)\n",
    "df.info()"
   ]
  },
  {
   "cell_type": "code",
   "execution_count": 4,
   "metadata": {},
   "outputs": [
    {
     "data": {
      "text/plain": [
       "loan_advances                  4\n",
       "director_fees                 17\n",
       "restricted_stock_deferred     18\n",
       "deferral_payments             39\n",
       "deferred_income               49\n",
       "long_term_incentive           66\n",
       "bonus                         82\n",
       "from_messages                 86\n",
       "to_messages                   86\n",
       "from_poi_to_this_person       86\n",
       "from_this_person_to_poi       86\n",
       "other                         93\n",
       "expenses                      95\n",
       "salary                        95\n",
       "exercised_stock_options      102\n",
       "restricted_stock             110\n",
       "total_payments               125\n",
       "total_stock_value            126\n",
       "poi                          146\n",
       "dtype: int64"
      ]
     },
     "execution_count": 4,
     "metadata": {},
     "output_type": "execute_result"
    }
   ],
   "source": [
    "df.count().sort_values()"
   ]
  },
  {
   "cell_type": "markdown",
   "metadata": {},
   "source": [
    "# Data Cleaning"
   ]
  },
  {
   "cell_type": "code",
   "execution_count": 5,
   "metadata": {},
   "outputs": [
    {
     "name": "stdout",
     "output_type": "stream",
     "text": [
      "Total number of NaN values in the dataset:  1263\n"
     ]
    }
   ],
   "source": [
    "print \"Total number of NaN values in the dataset: \", df.isnull().sum().sum()"
   ]
  },
  {
   "cell_type": "code",
   "execution_count": 6,
   "metadata": {
    "collapsed": true
   },
   "outputs": [],
   "source": [
    "# Replace NaN in financial features with 0\n",
    "df.ix[:,:15] = df.ix[:,:15].fillna(0)"
   ]
  },
  {
   "cell_type": "code",
   "execution_count": 7,
   "metadata": {},
   "outputs": [
    {
     "name": "stdout",
     "output_type": "stream",
     "text": [
      "Total number of NaN values in the dataset:  240\n"
     ]
    }
   ],
   "source": [
    "print \"Total number of NaN values in the dataset: \", df.isnull().sum().sum()"
   ]
  },
  {
   "cell_type": "markdown",
   "metadata": {},
   "source": [
    "# Financial Data Accuracy\n",
    "    Question: Does the summation of the payment features equal total payments? If not list the employees where this is the case. I'm going to check the accuracy of the financial data by summing up the payment features and comparing it with the total_payment feature and stock features and comparing with the total_stock_value."
   ]
  },
  {
   "cell_type": "code",
   "execution_count": 8,
   "metadata": {},
   "outputs": [
    {
     "data": {
      "text/html": [
       "<div>\n",
       "<table border=\"1\" class=\"dataframe\">\n",
       "  <thead>\n",
       "    <tr style=\"text-align: right;\">\n",
       "      <th></th>\n",
       "      <th>poi</th>\n",
       "      <th>salary</th>\n",
       "      <th>bonus</th>\n",
       "      <th>long_term_incentive</th>\n",
       "      <th>deferred_income</th>\n",
       "      <th>deferral_payments</th>\n",
       "      <th>loan_advances</th>\n",
       "      <th>other</th>\n",
       "      <th>expenses</th>\n",
       "      <th>director_fees</th>\n",
       "      <th>total_payments</th>\n",
       "      <th>exercised_stock_options</th>\n",
       "      <th>restricted_stock</th>\n",
       "      <th>restricted_stock_deferred</th>\n",
       "      <th>total_stock_value</th>\n",
       "      <th>to_messages</th>\n",
       "      <th>from_messages</th>\n",
       "      <th>from_this_person_to_poi</th>\n",
       "      <th>from_poi_to_this_person</th>\n",
       "    </tr>\n",
       "  </thead>\n",
       "  <tbody>\n",
       "  </tbody>\n",
       "</table>\n",
       "</div>"
      ],
      "text/plain": [
       "Empty DataFrame\n",
       "Columns: [poi, salary, bonus, long_term_incentive, deferred_income, deferral_payments, loan_advances, other, expenses, director_fees, total_payments, exercised_stock_options, restricted_stock, restricted_stock_deferred, total_stock_value, to_messages, from_messages, from_this_person_to_poi, from_poi_to_this_person]\n",
       "Index: []"
      ]
     },
     "execution_count": 8,
     "metadata": {},
     "output_type": "execute_result"
    }
   ],
   "source": [
    "#split of POI and non-POI in the dataset\n",
    "poi_non_poi = df.poi.value_counts()\n",
    "poi_non_poi.index=['non-POI', 'POI']\n",
    "\n",
    "# Replace NaN in financial features with 0\n",
    "df.ix[:,:15] = df.ix[:,:15].fillna(0)\n",
    "\n",
    "email_features = ['to_messages', 'from_messages', 'from_this_person_to_poi', 'from_poi_to_this_person']\n",
    "\n",
    "imp = Imputer(missing_values='NaN', strategy='median', axis=0)\n",
    "\n",
    "#impute missing values of email features \n",
    "df.loc[df[df.poi == 1].index,email_features] = imp.fit_transform(df[email_features][df.poi == 1])\n",
    "df.loc[df[df.poi == 0].index,email_features] = imp.fit_transform(df[email_features][df.poi == 0])\n",
    "\n",
    "## Review financial data accuracy\n",
    "#check data: summing payments features and compare with total_payments\n",
    "payments = ['salary',\n",
    "            'bonus', \n",
    "            'long_term_incentive', \n",
    "            'deferred_income', \n",
    "            'deferral_payments',\n",
    "            'loan_advances', \n",
    "            'other',\n",
    "            'expenses', \n",
    "            'director_fees']\n",
    "df[df[payments].sum(axis='columns') != df.total_payments]\n",
    "\n",
    "stock_value = ['exercised_stock_options',\n",
    "                'restricted_stock',\n",
    "                'restricted_stock_deferred']\n",
    "df[df[stock_value].sum(axis='columns') != df.total_stock_value]\n",
    "\n",
    "## Update financial data for BHATNAGAR SANJAY and BELFER ROBERT\n",
    "df.ix['BELFER ROBERT','total_payments'] = 3285\n",
    "df.ix['BELFER ROBERT','deferral_payments'] = 0\n",
    "df.ix['BELFER ROBERT','restricted_stock'] = 44093\n",
    "df.ix['BELFER ROBERT','restricted_stock_deferred'] = -44093\n",
    "df.ix['BELFER ROBERT','total_stock_value'] = 0\n",
    "df.ix['BELFER ROBERT','director_fees'] = 102500\n",
    "df.ix['BELFER ROBERT','deferred_income'] = -102500\n",
    "df.ix['BELFER ROBERT','exercised_stock_options'] = 0\n",
    "df.ix['BELFER ROBERT','expenses'] = 3285\n",
    "df.ix['BELFER ROBERT',]\n",
    "df.ix['BHATNAGAR SANJAY','expenses'] = 137864\n",
    "df.ix['BHATNAGAR SANJAY','total_payments'] = 137864\n",
    "df.ix['BHATNAGAR SANJAY','exercised_stock_options'] = 1.54563e+07\n",
    "df.ix['BHATNAGAR SANJAY','restricted_stock'] = 2.60449e+06\n",
    "df.ix['BHATNAGAR SANJAY','restricted_stock_deferred'] = -2.60449e+06\n",
    "df.ix['BHATNAGAR SANJAY','other'] = 0\n",
    "df.ix['BHATNAGAR SANJAY','director_fees'] = 0\n",
    "df.ix['BHATNAGAR SANJAY','total_stock_value'] = 1.54563e+07\n",
    "df.ix['BHATNAGAR SANJAY']\n",
    "df[df[payments].sum(axis='columns') != df.total_payments]"
   ]
  },
  {
   "cell_type": "code",
   "execution_count": 9,
   "metadata": {},
   "outputs": [
    {
     "name": "stdout",
     "output_type": "stream",
     "text": [
      "Total number of NaN values in the dataset:  0\n"
     ]
    }
   ],
   "source": [
    "#df = df[features_list]\n",
    "#df.head(10)\n",
    "print \"Total number of NaN values in the dataset: \", df.isnull().sum().sum()"
   ]
  },
  {
   "cell_type": "markdown",
   "metadata": {},
   "source": [
    "# Outlier Investigation\n",
    "Now the data has been cleaned from missing values and typos I would like to discover the outliers. Descriptive statistics can be used to determine outliers of the distibution as the values which are higher than Q2 + 1.5IQR or less than Q2 - 1.5IQR, where Q2 median of the distribution, IQR - interquartile range. I'm going to calculate the sum of outlier variables for each person and sort them descending."
   ]
  },
  {
   "cell_type": "code",
   "execution_count": 10,
   "metadata": {},
   "outputs": [
    {
     "data": {
      "image/png": "[encoded data removed]",
      "text/plain": [
       "<matplotlib.figure.Figure at 0x119d80210>"
      ]
     },
     "metadata": {},
     "output_type": "display_data"
    }
   ],
   "source": [
    "#Visualize outliers\n",
    "import matplotlib.pyplot as plt\n",
    "from feature_format import featureFormat, targetFeatureSplit\n",
    "\n",
    "features = [\"salary\", \"bonus\"]\n",
    "\n",
    "## remove the outlier key = TOTAL\n",
    "data_dict.pop('TOTAL', 0)\n",
    "data = featureFormat(data_dict, features)\n",
    "\n",
    "for point in data:\n",
    "    salary = point[0]\n",
    "    bonus = point[1]\n",
    "    plt.scatter(salary, bonus, c=None)\n",
    "\n",
    "plt.xlabel(\"Salary\")\n",
    "plt.ylabel(\"Bonus\")\n",
    "plt.show()\n",
    "\n",
    "## Using descriptive statistics to determine the outliers in this distribution of data\n",
    "outliers = df.quantile(.5) + 1.5 * (df.quantile(.75)-df.quantile(.25))\n",
    "pd.DataFrame((df[1:] > outliers[1:]).sum(axis = 1), columns = ['# of outliers']).\\\n",
    "    sort_values('# of outliers',  ascending = [0]).head(12)\n",
    "    \n",
    "    \n",
    "# Remove TOTAL outlier from the data set\n",
    "df = df.drop(['TOTAL'],0)"
   ]
  },
  {
   "cell_type": "markdown",
   "metadata": {},
   "source": [
    "# Outlier Review:\n",
    "The first value is 'TOTAL' which is the total value of financial payments from the FindLaw data. As it's doesn't make any sence for our solution, I'm going to exclude it from the data set.\n",
    "\n",
    "Kenneth Lay and Jeffrey Skilling are very well known persons from ENRON scandal. They will be kept in the dataset as they represent anomalies but not the outliers.\n",
    "\n",
    "Mark Frevert and Lawrence Whalley are high level managers at Enron who could represent great examples for modeling.\n",
    "\n"
   ]
  },
  {
   "cell_type": "code",
   "execution_count": 11,
   "metadata": {
    "collapsed": true
   },
   "outputs": [],
   "source": [
    "# Create new feature: fraction of person's email to POI to all sent messages\n",
    "df['fraction_to_poi'] = df['from_this_person_to_poi']/df['from_messages']\n",
    "\n",
    "# Clean all 'inf' values which we got if the person's from_messages = 0\n",
    "df = df.replace('inf', 0)"
   ]
  },
  {
   "cell_type": "markdown",
   "metadata": {},
   "source": [
    "# Create New Feature\n",
    "I reviewed multiple resource allocation (POI/NON_POI) of the financial data and very little insight to the data. An email feature was created to check the fraction of emails, sent to POI, to all sent emails; emails, received from POI, to all received emails. The new feature name is \"fraction_to_poi\"."
   ]
  },
  {
   "cell_type": "code",
   "execution_count": 12,
   "metadata": {
    "collapsed": true
   },
   "outputs": [],
   "source": [
    "### create new features\n",
    "### new features are: fraction_to_poi_email,fraction_from_poi_email\n",
    "#from IPython.display import Image\n",
    "#import matplotlib.pyplot as plt\n",
    "def dict_to_list(key,normalizer):\n",
    "    new_list=[]\n",
    "\n",
    "    for i in data_dict:\n",
    "        if data_dict[i][key]==\"NaN\" or data_dict[i][normalizer]==\"NaN\":\n",
    "            new_list.append(0.)\n",
    "        elif data_dict[i][key]>=0:\n",
    "            new_list.append(float(data_dict[i][key])/float(data_dict[i][normalizer]))\n",
    "    return new_list\n",
    "\n",
    "### create two lists of new features\n",
    "fraction_from_poi_email=dict_to_list(\"from_poi_to_this_person\",\"to_messages\")\n",
    "fraction_to_poi_email=dict_to_list(\"from_this_person_to_poi\",\"from_messages\")\n",
    "\n",
    "### insert new features into data_dict\n",
    "count=0\n",
    "for i in data_dict:\n",
    "    data_dict[i][\"fraction_from_poi_email\"]=fraction_from_poi_email[count]\n",
    "    data_dict[i][\"fraction_to_poi_email\"]=fraction_to_poi_email[count]\n",
    "    count +=1\n",
    "\n",
    "    \n",
    "#features_list = [\"poi\", \"fraction_from_poi_email\", \"fraction_to_poi_email\"]    \n",
    "    ### store to my_dataset for easy export below\n",
    "my_dataset = data_dict\n",
    "\n",
    "\n"
   ]
  },
  {
   "cell_type": "markdown",
   "metadata": {},
   "source": [
    "# Feature Selection\n",
    "In order to find the most effective features for classification, feature selection using “Decision Tree” was deployed to rank the features. Resulting in a number of features with non-null feature importance, sorted by importance. \n",
    "\n",
    "Note Decision tree doesn't require me any feature scaling. According to feature_importances attribute of the classifier, just created fraction_to_poi feature has the highest importance for the model. It is important to note the number of features used for the model can cause varied results."
   ]
  },
  {
   "cell_type": "code",
   "execution_count": 13,
   "metadata": {},
   "outputs": [
    {
     "name": "stdout",
     "output_type": "stream",
     "text": [
      "accuracy 0.733333333333\n",
      "Decision tree algorithm time: 0.004 s\n",
      "Feature Ranking: \n",
      "1 salary (0.18913356647)\n",
      "2 bonus (0.173931999677)\n",
      "3 long_term_incentive (0.144261508951)\n",
      "4 deferred_income (0.142220496894)\n",
      "5 deferral_payments (0.141375325566)\n",
      "6 loan_advances (0.0846048429142)\n",
      "7 other (0.0710561104583)\n",
      "8 expenses (0.0534161490683)\n",
      "9 director_fees (0.0)\n",
      "10 total_payments (0.0)\n",
      "11 exercised_stock_options (0.0)\n",
      "12 restricted_stock (0.0)\n",
      "13 restricted_stock_deferred (0.0)\n",
      "14 total_stock_value (0.0)\n",
      "15 to_messages (0.0)\n",
      "16 from_messages (0.0)\n"
     ]
    }
   ],
   "source": [
    "from time import time\n",
    "\n",
    "\n",
    "## features_list = [\"poi\", \"salary\", \"bonus\", \"fraction_from_poi_email\", \"fraction_to_poi_email\",\n",
    "#                 'deferral_payments', 'total_payments', 'loan_advances', 'restricted_stock_deferred',\n",
    "#                 'deferred_income', 'total_stock_value', 'expenses', 'exercised_stock_options',\n",
    " #                'long_term_incentive', 'shared_receipt_with_poi', 'restricted_stock', 'director_fees']\n",
    "\n",
    "data = featureFormat(my_dataset, features_list)\n",
    "\n",
    "### split into labels and features (this line assumes that the first\n",
    "### feature in the array is the label, which is why \"poi\" must always\n",
    "### be first in features_list\n",
    "labels, features = targetFeatureSplit(data)\n",
    "\n",
    "### split data into training and testing datasets\n",
    "from sklearn import cross_validation\n",
    "features_train, features_test, labels_train, labels_test = cross_validation.train_test_split(features, \n",
    "                                                                labels, test_size=0.1, random_state=42)\n",
    "t0 = time()\n",
    "\n",
    "clf = DecisionTreeClassifier()\n",
    "clf.fit(features_train,labels_train)\n",
    "score = clf.score(features_test,labels_test)\n",
    "pred= clf.predict(features_test)\n",
    "print 'accuracy', score\n",
    "\n",
    "print \"Decision tree algorithm time:\", round(time()-t0, 3), \"s\"\n",
    "\n",
    "importances = clf.feature_importances_\n",
    "import numpy as np\n",
    "indices = np.argsort(importances)[::-1]\n",
    "print 'Feature Ranking: '\n",
    "for i in range(16):\n",
    "    print \"{} {} ({})\".format(i+1,features_list[i+1],importances[indices[i]])"
   ]
  },
  {
   "cell_type": "markdown",
   "metadata": {},
   "source": [
    "Accuracy results in this project is not very meaningful because the number of POI is so few. Recall and Precision for the Decision Tree were 0.28 and 0.30 respectively. I will need to manually choose a subset of the features in order to improve the recall and precision numbers. "
   ]
  },
  {
   "cell_type": "markdown",
   "metadata": {},
   "source": [
    "# Pick and Tune an Algorithm"
   ]
  },
  {
   "cell_type": "code",
   "execution_count": 14,
   "metadata": {},
   "outputs": [
    {
     "name": "stdout",
     "output_type": "stream",
     "text": [
      "DecisionTreeClassifier(class_weight=None, criterion='gini', max_depth=None,\n",
      "            max_features=None, max_leaf_nodes=None,\n",
      "            min_impurity_decrease=0.0, min_impurity_split=None,\n",
      "            min_samples_leaf=1, min_samples_split=2,\n",
      "            min_weight_fraction_leaf=0.0, presort=False, random_state=75,\n",
      "            splitter='best')\n",
      "\tAccuracy: 0.82560\tPrecision: 0.34140\tRecall: 0.33150\tF1: 0.33638\tF2: 0.33343\n",
      "\tTotal predictions: 15000\tTrue positives:  663\tFalse positives: 1279\tFalse negatives: 1337\tTrue negatives: 11721\n",
      "\n"
     ]
    }
   ],
   "source": [
    "#Decision Tree Classifier with standard parametres \n",
    "clf = DecisionTreeClassifier(random_state = 75)\n",
    "my_dataset = df[features_list].to_dict(orient = 'index')\n",
    "tester.dump_classifier_and_data(clf, my_dataset, features_list)\n",
    "tester.main() "
   ]
  },
  {
   "cell_type": "code",
   "execution_count": 15,
   "metadata": {},
   "outputs": [
    {
     "name": "stdout",
     "output_type": "stream",
     "text": [
      "RandomForestClassifier(bootstrap=True, class_weight=None, criterion='gini',\n",
      "            max_depth=None, max_features='auto', max_leaf_nodes=None,\n",
      "            min_impurity_decrease=0.0, min_impurity_split=None,\n",
      "            min_samples_leaf=1, min_samples_split=2,\n",
      "            min_weight_fraction_leaf=0.0, n_estimators=10, n_jobs=1,\n",
      "            oob_score=False, random_state=75, verbose=0, warm_start=False)\n",
      "\tAccuracy: 0.88013\tPrecision: 0.61583\tRecall: 0.26850\tF1: 0.37396\tF2: 0.30264\n",
      "\tTotal predictions: 15000\tTrue positives:  537\tFalse positives:  335\tFalse negatives: 1463\tTrue negatives: 12665\n",
      "\n"
     ]
    }
   ],
   "source": [
    "#Random Forest with standard parameters\n",
    "clf = RandomForestClassifier(random_state = 75)\n",
    "clf.fit(df.ix[:,1:], np.ravel(df.ix[:,:1]))\n",
    "\n",
    "# selecting the features with non null importance, sorting and creating features_list for the model\n",
    "features_importance = []\n",
    "for i in range(len(clf.feature_importances_)):\n",
    "    if clf.feature_importances_[i] > 0:\n",
    "        features_importance.append([df.columns[i+1], clf.feature_importances_[i]])\n",
    "features_importance.sort(key=lambda x: x[1], reverse = True)\n",
    "features_list = [x[0] for x in features_importance]\n",
    "features_list.insert(0, 'poi')\n",
    "\n",
    "# number of features for best result was found iteratively\n",
    "features_list2 = features_list[:11]\n",
    "my_dataset = df[features_list2].to_dict(orient = 'index')\n",
    "tester.dump_classifier_and_data(clf, my_dataset, features_list2)\n",
    "tester.main()"
   ]
  },
  {
   "cell_type": "code",
   "execution_count": 16,
   "metadata": {},
   "outputs": [
    {
     "name": "stdout",
     "output_type": "stream",
     "text": [
      "GaussianNB(priors=None)\n",
      "\tAccuracy: 0.87213\tPrecision: 0.52774\tRecall: 0.39000\tF1: 0.44853\tF2: 0.41148\n",
      "\tTotal predictions: 15000\tTrue positives:  780\tFalse positives:  698\tFalse negatives: 1220\tTrue negatives: 12302\n",
      "\n"
     ]
    }
   ],
   "source": [
    "# GaussianNB with feature standartization, selection, PCA\n",
    "from sklearn.feature_selection import SelectKBest, f_classif\n",
    "from tester import dump_classifier_and_data\n",
    "\n",
    "clf = GaussianNB()\n",
    "\n",
    "# data set standartization\n",
    "scaler = StandardScaler()\n",
    "df_norm = df[features_list]\n",
    "df_norm = scaler.fit_transform(df_norm.ix[:,1:])\n",
    "\n",
    "# feature selection\n",
    "from sklearn.feature_selection import SelectKBest\n",
    "from sklearn.feature_selection import f_classif\n",
    "features_list2 = ['poi']+range(3)\n",
    "my_dataset = pd.DataFrame(SelectKBest(f_classif, k=8).fit_transform(df_norm, df.poi), index = df.index)\n",
    "\n",
    "#PCA\n",
    "pca = PCA(n_components=3)\n",
    "my_dataset2 = pd.DataFrame(pca.fit_transform(my_dataset),  index=df.index)\n",
    "my_dataset2.insert(0, \"poi\", df.poi)\n",
    "my_dataset2 = my_dataset2.to_dict(orient = 'index')  \n",
    "\n",
    "dump_classifier_and_data(clf, my_dataset2, features_list2)\n",
    "tester.main()"
   ]
  },
  {
   "cell_type": "markdown",
   "metadata": {},
   "source": [
    "# Decision Tree Classifier, Random Forest, and GaussianNB\n",
    "For decision tree and random forest features were selected with non-null importance based on clf.features_importances. Next the number of features were iteratively changed to achieve the best performance. In the GaussianNB classifier feature standization is applied to achieve results, the StandardScaler function is use in the GaussianNB algorithm. In addition, Applied SelectKBest function from sklearn to find k (where k = 8) best features for the algorithm. Finally, Applied PCA to decrease the dimensionality of the data where n_components = 3. Decision tree significantly faster than RandomForest and gave the worst results as shown in table below. These results are before any tuning."
   ]
  },
  {
   "cell_type": "code",
   "execution_count": 17,
   "metadata": {},
   "outputs": [
    {
     "data": {
      "text/html": [
       "<div>\n",
       "<table border=\"1\" class=\"dataframe\">\n",
       "  <thead>\n",
       "    <tr style=\"text-align: right;\">\n",
       "      <th></th>\n",
       "      <th>Accuracy</th>\n",
       "      <th>Precision</th>\n",
       "      <th>Recall</th>\n",
       "      <th>F1</th>\n",
       "    </tr>\n",
       "  </thead>\n",
       "  <tbody>\n",
       "    <tr>\n",
       "      <th>Decision Tree Classifier</th>\n",
       "      <td>0.8874</td>\n",
       "      <td>0.5761</td>\n",
       "      <td>0.5885</td>\n",
       "      <td>0.5822</td>\n",
       "    </tr>\n",
       "    <tr>\n",
       "      <th>Random Forest</th>\n",
       "      <td>0.8978</td>\n",
       "      <td>0.7032</td>\n",
       "      <td>0.4040</td>\n",
       "      <td>0.5132</td>\n",
       "    </tr>\n",
       "    <tr>\n",
       "      <th>Gaussian Naive Bayes</th>\n",
       "      <td>0.8613</td>\n",
       "      <td>0.4773</td>\n",
       "      <td>0.4250</td>\n",
       "      <td>0.4496</td>\n",
       "    </tr>\n",
       "  </tbody>\n",
       "</table>\n",
       "</div>"
      ],
      "text/plain": [
       "                          Accuracy  Precision  Recall      F1\n",
       "Decision Tree Classifier    0.8874     0.5761  0.5885  0.5822\n",
       "Random Forest               0.8978     0.7032  0.4040  0.5132\n",
       "Gaussian Naive Bayes        0.8613     0.4773  0.4250  0.4496"
      ]
     },
     "execution_count": 17,
     "metadata": {},
     "output_type": "execute_result"
    }
   ],
   "source": [
    "pd.DataFrame([[0.8874, 0.5761, 0.5885, 0.5822],\n",
    "              [0.8978, 0.7032, 0.4040, 0.5132],\n",
    "              [0.8613, 0.4773, 0.4250, 0.4496]],\n",
    "             columns = ['Accuracy','Precision', 'Recall', 'F1'], \n",
    "             index = ['Decision Tree Classifier', 'Random Forest', 'Gaussian Naive Bayes'])"
   ]
  },
  {
   "cell_type": "markdown",
   "metadata": {
    "collapsed": true
   },
   "source": [
    "# Tune The Algorithm\n",
    "In machine learning, tuning is working with variable data based on some parameters which have been identified to affect system performance as evaluated by some appropriate metric. Enhanced output reveals which parameter settings are more favorable (tuned) or less favorable (untuned). For the Enron project we tasked with tuning the selected classifier to achieve better than 0.3 precision and 0.3 recall by tuning the parameters in our classifier."
   ]
  },
  {
   "cell_type": "code",
   "execution_count": 18,
   "metadata": {
    "collapsed": true
   },
   "outputs": [],
   "source": [
    "clf = DecisionTreeClassifier(criterion = 'entropy', \n",
    "                             min_samples_split = 19,\n",
    "                             random_state = 60,\n",
    "                             min_samples_leaf=6, \n",
    "                             max_depth = 3,\n",
    "                            class_weight=None)"
   ]
  },
  {
   "cell_type": "code",
   "execution_count": 19,
   "metadata": {},
   "outputs": [
    {
     "name": "stdout",
     "output_type": "stream",
     "text": [
      "DecisionTreeClassifier(class_weight=None, criterion='entropy', max_depth=3,\n",
      "            max_features=None, max_leaf_nodes=None,\n",
      "            min_impurity_decrease=0.0, min_impurity_split=None,\n",
      "            min_samples_leaf=6, min_samples_split=19,\n",
      "            min_weight_fraction_leaf=0.0, presort=False, random_state=60,\n",
      "            splitter='best')\n",
      "\tAccuracy: 0.92433\tPrecision: 0.77671\tRecall: 0.60700\tF1: 0.68145\tF2: 0.63474\n",
      "\tTotal predictions: 15000\tTrue positives: 1214\tFalse positives:  349\tFalse negatives:  786\tTrue negatives: 12651\n",
      "\n"
     ]
    }
   ],
   "source": [
    "clf.fit(df.ix[:,1:], df.poi)\n",
    "\n",
    "# show the features with non null importance, sorted and create features_list of features for the model\n",
    "features_importance = []\n",
    "for i in range(len(clf.feature_importances_)):\n",
    "    if clf.feature_importances_[i] > 0:\n",
    "        features_importance.append([df.columns[i+1], clf.feature_importances_[i]])\n",
    "features_importance.sort(key=lambda x: x[1], reverse = True)\n",
    "\n",
    "features_list = [x[0] for x in features_importance]\n",
    "features_list.insert(0, 'poi')\n",
    "\n",
    "my_dataset = df[features_list].to_dict(orient = 'index')\n",
    "tester.dump_classifier_and_data(clf, my_dataset, features_list)\n",
    "tester.main()"
   ]
  },
  {
   "cell_type": "markdown",
   "metadata": {},
   "source": [
    "## Defining Evaluation Metrics\n",
    "\n",
    "Precision is the fraction of retrieved documents that are relevant to the query. For example, for a text search on a set of documents, precision is the number of correct results divided by the number of all returned results. In the Enron project precision can be interpreted as the likelihood that a person who is identified as a POI is actually a true POI; the fact that this is 0.78 means that using this identifier to flag POI’s would result in 22% of the positive flags being false alarms. \n",
    "\n",
    "Recall is the fraction of the relevant documents that are successfully retrieved. For example, for a text search on a set of documents, recall is the number of correct results divided by the number of results that should have been returned. In binary classification, recall is called sensitivity. Recall measures how likely it is that identifier will flag a POI in the test set. 61% of the time it would catch that person, and 39% of the time it wouldn’t."
   ]
  },
  {
   "cell_type": "markdown",
   "metadata": {},
   "source": [
    "# Alogrithm Validation Strategy\n",
    "\n",
    "In this project validation is used to evaluating the model  by holding 10% of the data that was not touched during the training process. This is to avoid the mistake of obtaining overly optimistic results due to overfitting the training data, but very poor performance on unseen data. In this project the data is separated into three parts: training, cross-validation and test sets. Cross validation is used to address drastically reduce the number of samples which can be used for learning the model, and the results can depend on a particular random choice for the pair of (train, validation) sets. The model is tuned to maximize the evaluation score on the cross-validation set, and then the final model efficiency is measured on the test set."
   ]
  },
  {
   "cell_type": "code",
   "execution_count": 20,
   "metadata": {},
   "outputs": [
    {
     "name": "stdout",
     "output_type": "stream",
     "text": [
      "0.333333333333\n",
      "NB algorithm time: 0.003 s\n"
     ]
    }
   ],
   "source": [
    "features_list = [\"poi\", \"fraction_from_poi_email\", \"fraction_to_poi_email\", \"to_messages\"]\n",
    "\n",
    "### try Naive Bayes for prediction\n",
    "t0 = time()\n",
    "\n",
    "clf = GaussianNB()\n",
    "clf.fit(features_train, labels_train)\n",
    "pred = clf.predict(features_test)\n",
    "accuracy = accuracy_score(pred,labels_test)\n",
    "print accuracy\n",
    "\n",
    "print \"NB algorithm time:\", round(time()-t0, 3), \"s\""
   ]
  },
  {
   "cell_type": "code",
   "execution_count": 21,
   "metadata": {
    "collapsed": true
   },
   "outputs": [],
   "source": [
    "### Task 6: Dump your classifier, dataset, and features_list so anyone can\n",
    "### check your results. You do not need to change anything below, but make sure\n",
    "### that the version of poi_id.py that you submit can be run on its own and\n",
    "### generates the necessary .pkl files for validating your results.\n"
   ]
  },
  {
   "cell_type": "code",
   "execution_count": 61,
   "metadata": {},
   "outputs": [
    {
     "name": "stdout",
     "output_type": "stream",
     "text": [
      "accuracy before tuning  0.76\n",
      "Decision tree algorithm time: 0.002 s\n",
      "done in 0.002s\n",
      "Validating algorithm:\n",
      "accuracy after tuning =  0.88\n",
      "precision =  0.5\n",
      "recall =  0.666666666667\n"
     ]
    }
   ],
   "source": [
    "### features_list is a list of strings, each of which is a feature name\n",
    "### first feature must be \"poi\", as this will be singled out as the label\n",
    "features_list = [\"poi\", \"fraction_from_poi_email\", \"fraction_to_poi_email\"]\n",
    "\n",
    "\n",
    "### store to my_dataset for easy export below\n",
    "my_dataset = data_dict\n",
    "\n",
    "\n",
    "### these two lines extract the features specified in features_list\n",
    "### and extract them from data_dict, returning a numpy array\n",
    "data = featureFormat(my_dataset, features_list)\n",
    "\n",
    "\n",
    "### split into labels and features (this line assumes that the first\n",
    "### feature in the array is the label, which is why \"poi\" must always\n",
    "### be first in features_list\n",
    "labels, features = targetFeatureSplit(data)\n",
    "\n",
    "\n",
    "### machine learning goes here!\n",
    "### please name your classifier clf for easy export below\n",
    "\n",
    "### deploying feature selection\n",
    "from sklearn import cross_validation\n",
    "features_train, features_test, labels_train, labels_test = cross_validation.train_test_split(features, labels, test_size=0.1, random_state=42)\n",
    "\n",
    "### use KFold for split and validate algorithm\n",
    "from sklearn.cross_validation import KFold\n",
    "kf=KFold(len(labels),3)\n",
    "for train_indices, test_indices in kf:\n",
    "    #make training and testing sets\n",
    "    features_train= [features[ii] for ii in train_indices]\n",
    "    features_test= [features[ii] for ii in test_indices]\n",
    "    labels_train=[labels[ii] for ii in train_indices]\n",
    "    labels_test=[labels[ii] for ii in test_indices]\n",
    "\n",
    "t0 = time()\n",
    "\n",
    "clf = DecisionTreeClassifier()\n",
    "clf.fit(features_train,labels_train)\n",
    "score = clf.score(features_test,labels_test)\n",
    "print 'accuracy before tuning ', score\n",
    "\n",
    "print \"Decision tree algorithm time:\", round(time()-t0, 3), \"s\"\n",
    "\n",
    "\n",
    "### use manual tuning parameters\n",
    "t0 = time()\n",
    "clf = DecisionTreeClassifier(class_weight=None, criterion='gini', max_depth=None,\n",
    "        max_features=None, max_leaf_nodes=None,\n",
    "        min_impurity_decrease=1e-06, min_impurity_split=None,\n",
    "        min_samples_leaf=6, min_samples_split=2,\n",
    "        min_weight_fraction_leaf=0.0, presort=False, random_state=None,\n",
    "        splitter='best')\n",
    "clf = clf.fit(features_train,labels_train)\n",
    "pred= clf.predict(features_test)\n",
    "print(\"done in %0.3fs\" % (time() - t0))\n",
    "\n",
    "acc=accuracy_score(labels_test, pred)\n",
    "\n",
    "print \"Validating algorithm:\"\n",
    "print \"accuracy after tuning = \", acc\n",
    "\n",
    "# function for calculation ratio of true positives\n",
    "# out of all positives (true + false)\n",
    "print 'precision = ', precision_score(labels_test,pred)\n",
    "\n",
    "# function for calculation ratio of true positives\n",
    "# out of true positives and false negatives\n",
    "print 'recall = ', recall_score(labels_test,pred)\n",
    "\n",
    "\n",
    "### dump your classifier, dataset and features_list so\n",
    "### anyone can run/check your results\n",
    "pickle.dump(clf, open(\"my_classifier.pkl\", \"w\") )\n",
    "pickle.dump(data_dict, open(\"my_dataset.pkl\", \"w\") )\n",
    "pickle.dump(features_list, open(\"my_feature_list.pkl\", \"w\") )"
   ]
  },
  {
   "cell_type": "markdown",
   "metadata": {
    "collapsed": true
   },
   "source": [
    "# References\n",
    "    NYTIMES: https://archive.nytimes.com/www.nytimes.com/packages/html/national/20061023_ENRON_TABLE/index.html\n",
    "    Enron data set: https://www.cs.cmu.edu/~./enron/\n",
    "    FindLaw financial data: http://www.findlaw.com\n",
    "    Enron on Wikipedia: https://en.wikipedia.org/wiki/Enron\n",
    "    F1 score on Wikipedia: https://en.wikipedia.org/wiki/F1_score"
   ]
  },
  {
   "cell_type": "code",
   "execution_count": 62,
   "metadata": {},
   "outputs": [
    {
     "name": "stdout",
     "output_type": "stream",
     "text": [
      "DecisionTreeClassifier(class_weight=None, criterion='gini', max_depth=None,\n",
      "            max_features=None, max_leaf_nodes=None,\n",
      "            min_impurity_decrease=1e-06, min_impurity_split=None,\n",
      "            min_samples_leaf=6, min_samples_split=2,\n",
      "            min_weight_fraction_leaf=0.0, presort=False, random_state=None,\n",
      "            splitter='best')\n",
      "\tAccuracy: 0.87725\tPrecision: 0.51278\tRecall: 0.36100\tF1: 0.42371\tF2: 0.38372\n",
      "\tTotal predictions: 8000\tTrue positives:  361\tFalse positives:  343\tFalse negatives:  639\tTrue negatives: 6657\n",
      "\n"
     ]
    }
   ],
   "source": [
    "# %load tester.py\n",
    "#!/usr/bin/pickle\n",
    "\n",
    "\"\"\" a basic script for importing student's POI identifier,\n",
    "    and checking the results that they get from it \n",
    " \n",
    "    requires that the algorithm, dataset, and features list\n",
    "    be written to my_classifier.pkl, my_dataset.pkl, and\n",
    "    my_feature_list.pkl, respectively\n",
    "\n",
    "    that process should happen at the end of poi_id.py\n",
    "\"\"\"\n",
    "\n",
    "import pickle\n",
    "import sys\n",
    "from sklearn.cross_validation import StratifiedShuffleSplit\n",
    "sys.path.append(\"../tools/\")\n",
    "from feature_format import featureFormat, targetFeatureSplit\n",
    "\n",
    "PERF_FORMAT_STRING = \"\\\n",
    "\\tAccuracy: {:>0.{display_precision}f}\\tPrecision: {:>0.{display_precision}f}\\t\\\n",
    "Recall: {:>0.{display_precision}f}\\tF1: {:>0.{display_precision}f}\\tF2: {:>0.{display_precision}f}\"\n",
    "RESULTS_FORMAT_STRING = \"\\tTotal predictions: {:4d}\\tTrue positives: {:4d}\\tFalse positives: {:4d}\\\n",
    "\\tFalse negatives: {:4d}\\tTrue negatives: {:4d}\"\n",
    "\n",
    "def test_classifier(clf, dataset, feature_list, folds = 1000):\n",
    "    data = featureFormat(dataset, feature_list, sort_keys = True)\n",
    "    labels, features = targetFeatureSplit(data)\n",
    "    cv = StratifiedShuffleSplit(labels, folds, random_state = 42)\n",
    "    true_negatives = 0\n",
    "    false_negatives = 0\n",
    "    true_positives = 0\n",
    "    false_positives = 0\n",
    "    for train_idx, test_idx in cv: \n",
    "        features_train = []\n",
    "        features_test  = []\n",
    "        labels_train   = []\n",
    "        labels_test    = []\n",
    "        for ii in train_idx:\n",
    "            features_train.append( features[ii] )\n",
    "            labels_train.append( labels[ii] )\n",
    "        for jj in test_idx:\n",
    "            features_test.append( features[jj] )\n",
    "            labels_test.append( labels[jj] )\n",
    "        \n",
    "        ### fit the classifier using training set, and test on test set\n",
    "        clf.fit(features_train, labels_train)\n",
    "        predictions = clf.predict(features_test)\n",
    "        for prediction, truth in zip(predictions, labels_test):\n",
    "            if prediction == 0 and truth == 0:\n",
    "                true_negatives += 1\n",
    "            elif prediction == 0 and truth == 1:\n",
    "                false_negatives += 1\n",
    "            elif prediction == 1 and truth == 0:\n",
    "                false_positives += 1\n",
    "            elif prediction == 1 and truth == 1:\n",
    "                true_positives += 1\n",
    "            else:\n",
    "                print \"Warning: Found a predicted label not == 0 or 1.\"\n",
    "                print \"All predictions should take value 0 or 1.\"\n",
    "                print \"Evaluating performance for processed predictions:\"\n",
    "                break\n",
    "    try:\n",
    "        total_predictions = true_negatives + false_negatives + false_positives + true_positives\n",
    "        accuracy = 1.0*(true_positives + true_negatives)/total_predictions\n",
    "        precision = 1.0*true_positives/(true_positives+false_positives)\n",
    "        recall = 1.0*true_positives/(true_positives+false_negatives)\n",
    "        f1 = 2.0 * true_positives/(2*true_positives + false_positives+false_negatives)\n",
    "        f2 = (1+2.0*2.0) * precision*recall/(4*precision + recall)\n",
    "        print clf\n",
    "        print PERF_FORMAT_STRING.format(accuracy, precision, recall, f1, f2, display_precision = 5)\n",
    "        print RESULTS_FORMAT_STRING.format(total_predictions, true_positives, false_positives, false_negatives, true_negatives)\n",
    "        print \"\"\n",
    "    except:\n",
    "        print \"Got a divide by zero when trying out:\", clf\n",
    "        print \"Precision or recall may be undefined due to a lack of true positive predicitons.\"\n",
    "\n",
    "CLF_PICKLE_FILENAME = \"my_classifier.pkl\"\n",
    "DATASET_PICKLE_FILENAME = \"my_dataset.pkl\"\n",
    "FEATURE_LIST_FILENAME = \"my_feature_list.pkl\"\n",
    "\n",
    "def dump_classifier_and_data(clf, dataset, feature_list):\n",
    "    with open(CLF_PICKLE_FILENAME, \"w\") as clf_outfile:\n",
    "        pickle.dump(clf, clf_outfile)\n",
    "    with open(DATASET_PICKLE_FILENAME, \"w\") as dataset_outfile:\n",
    "        pickle.dump(dataset, dataset_outfile)\n",
    "    with open(FEATURE_LIST_FILENAME, \"w\") as featurelist_outfile:\n",
    "        pickle.dump(feature_list, featurelist_outfile)\n",
    "\n",
    "def load_classifier_and_data():\n",
    "    with open(CLF_PICKLE_FILENAME, \"r\") as clf_infile:\n",
    "        clf = pickle.load(clf_infile)\n",
    "    with open(DATASET_PICKLE_FILENAME, \"r\") as dataset_infile:\n",
    "        dataset = pickle.load(dataset_infile)\n",
    "    with open(FEATURE_LIST_FILENAME, \"r\") as featurelist_infile:\n",
    "        feature_list = pickle.load(featurelist_infile)\n",
    "    return clf, dataset, feature_list\n",
    "\n",
    "def main():\n",
    "    ### load up student's classifier, dataset, and feature_list\n",
    "    clf, dataset, feature_list = load_classifier_and_data()\n",
    "    ### Run testing script\n",
    "    test_classifier(clf, dataset, feature_list)\n",
    "\n",
    "if __name__ == '__main__':\n",
    "    main()\n"
   ]
  },
  {
   "cell_type": "code",
   "execution_count": null,
   "metadata": {
    "collapsed": true
   },
   "outputs": [],
   "source": []
  },
  {
   "cell_type": "code",
   "execution_count": null,
   "metadata": {
    "collapsed": true
   },
   "outputs": [],
   "source": []
  }
 ],
 "metadata": {
  "anaconda-cloud": {},
  "kernelspec": {
   "display_name": "Python [conda root]",
   "language": "python",
   "name": "conda-root-py"
  },
  "language_info": {
   "codemirror_mode": {
    "name": "ipython",
    "version": 2
   },
   "file_extension": ".py",
   "mimetype": "text/x-python",
   "name": "python",
   "nbconvert_exporter": "python",
   "pygments_lexer": "ipython2",
   "version": "2.7.13"
  }
 },
 "nbformat": 4,
 "nbformat_minor": 2
}
